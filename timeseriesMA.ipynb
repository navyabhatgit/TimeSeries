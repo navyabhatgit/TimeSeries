{
 "cells": [
  {
   "cell_type": "code",
   "execution_count": 89,
   "metadata": {},
   "outputs": [],
   "source": [
    "import pandas as pd\n",
    "import numpy as np\n",
    "import math\n",
    "import matplotlib.pyplot as plt\n",
    "%matplotlib inline"
   ]
  },
  {
   "cell_type": "code",
   "execution_count": 90,
   "metadata": {},
   "outputs": [],
   "source": [
    "#index_col='index' incase of an index column.\n",
    "user_dt=pd.read_csv(\"C:/Users/navya/Desktop/TimeSeries/Assignment (1).csv\")"
   ]
  },
  {
   "cell_type": "code",
   "execution_count": 91,
   "metadata": {},
   "outputs": [
    {
     "data": {
      "text/plain": [
       "Index(['Product', 'Location', 'Date', 'Value'], dtype='object')"
      ]
     },
     "execution_count": 91,
     "metadata": {},
     "output_type": "execute_result"
    }
   ],
   "source": [
    "user_dt.columns"
   ]
  },
  {
   "cell_type": "code",
   "execution_count": 92,
   "metadata": {},
   "outputs": [
    {
     "name": "stdout",
     "output_type": "stream",
     "text": [
      "<class 'pandas.core.frame.DataFrame'>\n",
      "RangeIndex: 68 entries, 0 to 67\n",
      "Data columns (total 4 columns):\n",
      " #   Column    Non-Null Count  Dtype  \n",
      "---  ------    --------------  -----  \n",
      " 0   Product   68 non-null     int64  \n",
      " 1   Location  68 non-null     int64  \n",
      " 2   Date      68 non-null     object \n",
      " 3   Value     68 non-null     float64\n",
      "dtypes: float64(1), int64(2), object(1)\n",
      "memory usage: 2.3+ KB\n"
     ]
    }
   ],
   "source": [
    "user_dt.info()"
   ]
  },
  {
   "cell_type": "code",
   "execution_count": 93,
   "metadata": {},
   "outputs": [
    {
     "name": "stdout",
     "output_type": "stream",
     "text": [
      "shape of df (68, 4)\n"
     ]
    }
   ],
   "source": [
    "print('shape of df',user_dt.shape)"
   ]
  },
  {
   "cell_type": "code",
   "execution_count": 94,
   "metadata": {},
   "outputs": [
    {
     "data": {
      "text/plain": [
       "<bound method NDFrame.head of     Product  Location        Date     Value\n",
       "0       220      1000  01-11-2020   11.2624\n",
       "1       220      1000  01-02-2021   88.6424\n",
       "2       220      1000  01-03-2021  251.2868\n",
       "3       220      1000  01-04-2021   11.3680\n",
       "4       220      1000  01-05-2021    2.4554\n",
       "..      ...       ...         ...       ...\n",
       "63     1138      1200  01-05-2023    2.2266\n",
       "64      394      1000  01-01-2023  140.6373\n",
       "65      394      1000  01-02-2023  241.7332\n",
       "66      394      1000  01-04-2023  152.8392\n",
       "67      394      1000  01-05-2023   54.1080\n",
       "\n",
       "[68 rows x 4 columns]>"
      ]
     },
     "execution_count": 94,
     "metadata": {},
     "output_type": "execute_result"
    }
   ],
   "source": [
    "user_dt.head"
   ]
  },
  {
   "cell_type": "code",
   "execution_count": 95,
   "metadata": {},
   "outputs": [
    {
     "data": {
      "text/plain": [
       "Product       int64\n",
       "Location      int64\n",
       "Date         object\n",
       "Value       float64\n",
       "dtype: object"
      ]
     },
     "execution_count": 95,
     "metadata": {},
     "output_type": "execute_result"
    }
   ],
   "source": [
    "user_dt.dtypes"
   ]
  },
  {
   "cell_type": "code",
   "execution_count": 96,
   "metadata": {},
   "outputs": [
    {
     "data": {
      "text/plain": [
       "0     01-11-2020\n",
       "1     01-02-2021\n",
       "2     01-03-2021\n",
       "3     01-04-2021\n",
       "4     01-05-2021\n",
       "         ...    \n",
       "63    01-05-2023\n",
       "64    01-01-2023\n",
       "65    01-02-2023\n",
       "66    01-04-2023\n",
       "67    01-05-2023\n",
       "Name: Date, Length: 68, dtype: object"
      ]
     },
     "execution_count": 96,
     "metadata": {},
     "output_type": "execute_result"
    }
   ],
   "source": [
    "user_dt['Date']"
   ]
  },
  {
   "cell_type": "code",
   "execution_count": 97,
   "metadata": {},
   "outputs": [
    {
     "name": "stdout",
     "output_type": "stream",
     "text": [
      "68\n"
     ]
    }
   ],
   "source": [
    "user_dt.Date.nunique\n",
    "#68 unique values\n",
    "print(user_dt.value_counts().count())"
   ]
  },
  {
   "cell_type": "code",
   "execution_count": 98,
   "metadata": {},
   "outputs": [
    {
     "data": {
      "text/html": [
       "<div>\n",
       "<style scoped>\n",
       "    .dataframe tbody tr th:only-of-type {\n",
       "        vertical-align: middle;\n",
       "    }\n",
       "\n",
       "    .dataframe tbody tr th {\n",
       "        vertical-align: top;\n",
       "    }\n",
       "\n",
       "    .dataframe thead th {\n",
       "        text-align: right;\n",
       "    }\n",
       "</style>\n",
       "<table border=\"1\" class=\"dataframe\">\n",
       "  <thead>\n",
       "    <tr style=\"text-align: right;\">\n",
       "      <th></th>\n",
       "      <th>Product</th>\n",
       "      <th>Location</th>\n",
       "      <th>Value</th>\n",
       "    </tr>\n",
       "  </thead>\n",
       "  <tbody>\n",
       "    <tr>\n",
       "      <th>count</th>\n",
       "      <td>68.000000</td>\n",
       "      <td>68.000000</td>\n",
       "      <td>68.000000</td>\n",
       "    </tr>\n",
       "    <tr>\n",
       "      <th>mean</th>\n",
       "      <td>364.235294</td>\n",
       "      <td>1138.235294</td>\n",
       "      <td>58.141431</td>\n",
       "    </tr>\n",
       "    <tr>\n",
       "      <th>std</th>\n",
       "      <td>407.767497</td>\n",
       "      <td>136.074400</td>\n",
       "      <td>61.121576</td>\n",
       "    </tr>\n",
       "    <tr>\n",
       "      <th>min</th>\n",
       "      <td>50.000000</td>\n",
       "      <td>1000.000000</td>\n",
       "      <td>0.689400</td>\n",
       "    </tr>\n",
       "    <tr>\n",
       "      <th>25%</th>\n",
       "      <td>50.000000</td>\n",
       "      <td>1000.000000</td>\n",
       "      <td>10.825200</td>\n",
       "    </tr>\n",
       "    <tr>\n",
       "      <th>50%</th>\n",
       "      <td>220.000000</td>\n",
       "      <td>1200.000000</td>\n",
       "      <td>41.335050</td>\n",
       "    </tr>\n",
       "    <tr>\n",
       "      <th>75%</th>\n",
       "      <td>394.000000</td>\n",
       "      <td>1300.000000</td>\n",
       "      <td>89.802500</td>\n",
       "    </tr>\n",
       "    <tr>\n",
       "      <th>max</th>\n",
       "      <td>1138.000000</td>\n",
       "      <td>1300.000000</td>\n",
       "      <td>251.286800</td>\n",
       "    </tr>\n",
       "  </tbody>\n",
       "</table>\n",
       "</div>"
      ],
      "text/plain": [
       "           Product     Location       Value\n",
       "count    68.000000    68.000000   68.000000\n",
       "mean    364.235294  1138.235294   58.141431\n",
       "std     407.767497   136.074400   61.121576\n",
       "min      50.000000  1000.000000    0.689400\n",
       "25%      50.000000  1000.000000   10.825200\n",
       "50%     220.000000  1200.000000   41.335050\n",
       "75%     394.000000  1300.000000   89.802500\n",
       "max    1138.000000  1300.000000  251.286800"
      ]
     },
     "execution_count": 98,
     "metadata": {},
     "output_type": "execute_result"
    }
   ],
   "source": [
    "user_dt.describe()"
   ]
  },
  {
   "cell_type": "code",
   "execution_count": 99,
   "metadata": {},
   "outputs": [
    {
     "data": {
      "text/html": [
       "<div>\n",
       "<style scoped>\n",
       "    .dataframe tbody tr th:only-of-type {\n",
       "        vertical-align: middle;\n",
       "    }\n",
       "\n",
       "    .dataframe tbody tr th {\n",
       "        vertical-align: top;\n",
       "    }\n",
       "\n",
       "    .dataframe thead th {\n",
       "        text-align: right;\n",
       "    }\n",
       "</style>\n",
       "<table border=\"1\" class=\"dataframe\">\n",
       "  <thead>\n",
       "    <tr style=\"text-align: right;\">\n",
       "      <th></th>\n",
       "      <th>Product</th>\n",
       "      <th>Location</th>\n",
       "      <th>Date</th>\n",
       "      <th>Value</th>\n",
       "    </tr>\n",
       "  </thead>\n",
       "  <tbody>\n",
       "    <tr>\n",
       "      <th>count</th>\n",
       "      <td>68.000000</td>\n",
       "      <td>68.000000</td>\n",
       "      <td>68</td>\n",
       "      <td>68.000000</td>\n",
       "    </tr>\n",
       "    <tr>\n",
       "      <th>unique</th>\n",
       "      <td>NaN</td>\n",
       "      <td>NaN</td>\n",
       "      <td>32</td>\n",
       "      <td>NaN</td>\n",
       "    </tr>\n",
       "    <tr>\n",
       "      <th>top</th>\n",
       "      <td>NaN</td>\n",
       "      <td>NaN</td>\n",
       "      <td>01-04-2023</td>\n",
       "      <td>NaN</td>\n",
       "    </tr>\n",
       "    <tr>\n",
       "      <th>freq</th>\n",
       "      <td>NaN</td>\n",
       "      <td>NaN</td>\n",
       "      <td>4</td>\n",
       "      <td>NaN</td>\n",
       "    </tr>\n",
       "    <tr>\n",
       "      <th>mean</th>\n",
       "      <td>364.235294</td>\n",
       "      <td>1138.235294</td>\n",
       "      <td>NaN</td>\n",
       "      <td>58.141431</td>\n",
       "    </tr>\n",
       "    <tr>\n",
       "      <th>std</th>\n",
       "      <td>407.767497</td>\n",
       "      <td>136.074400</td>\n",
       "      <td>NaN</td>\n",
       "      <td>61.121576</td>\n",
       "    </tr>\n",
       "    <tr>\n",
       "      <th>min</th>\n",
       "      <td>50.000000</td>\n",
       "      <td>1000.000000</td>\n",
       "      <td>NaN</td>\n",
       "      <td>0.689400</td>\n",
       "    </tr>\n",
       "    <tr>\n",
       "      <th>25%</th>\n",
       "      <td>50.000000</td>\n",
       "      <td>1000.000000</td>\n",
       "      <td>NaN</td>\n",
       "      <td>10.825200</td>\n",
       "    </tr>\n",
       "    <tr>\n",
       "      <th>50%</th>\n",
       "      <td>220.000000</td>\n",
       "      <td>1200.000000</td>\n",
       "      <td>NaN</td>\n",
       "      <td>41.335050</td>\n",
       "    </tr>\n",
       "    <tr>\n",
       "      <th>75%</th>\n",
       "      <td>394.000000</td>\n",
       "      <td>1300.000000</td>\n",
       "      <td>NaN</td>\n",
       "      <td>89.802500</td>\n",
       "    </tr>\n",
       "    <tr>\n",
       "      <th>max</th>\n",
       "      <td>1138.000000</td>\n",
       "      <td>1300.000000</td>\n",
       "      <td>NaN</td>\n",
       "      <td>251.286800</td>\n",
       "    </tr>\n",
       "  </tbody>\n",
       "</table>\n",
       "</div>"
      ],
      "text/plain": [
       "            Product     Location        Date       Value\n",
       "count     68.000000    68.000000          68   68.000000\n",
       "unique          NaN          NaN          32         NaN\n",
       "top             NaN          NaN  01-04-2023         NaN\n",
       "freq            NaN          NaN           4         NaN\n",
       "mean     364.235294  1138.235294         NaN   58.141431\n",
       "std      407.767497   136.074400         NaN   61.121576\n",
       "min       50.000000  1000.000000         NaN    0.689400\n",
       "25%       50.000000  1000.000000         NaN   10.825200\n",
       "50%      220.000000  1200.000000         NaN   41.335050\n",
       "75%      394.000000  1300.000000         NaN   89.802500\n",
       "max     1138.000000  1300.000000         NaN  251.286800"
      ]
     },
     "execution_count": 99,
     "metadata": {},
     "output_type": "execute_result"
    }
   ],
   "source": [
    "user_dt.describe(include='all')"
   ]
  },
  {
   "cell_type": "code",
   "execution_count": 100,
   "metadata": {},
   "outputs": [
    {
     "name": "stdout",
     "output_type": "stream",
     "text": [
      "first Date\n",
      "01-04-2023    4\n",
      "Name: count, dtype: int64\n",
      "last date Date\n",
      "01-08-2021    1\n",
      "01-04-2021    1\n",
      "01-03-2021    1\n",
      "01-10-2020    1\n",
      "01-12-2022    1\n",
      "Name: count, dtype: int64\n"
     ]
    }
   ],
   "source": [
    "print('first',user_dt.Date.value_counts().head(1))\n",
    "print('last date',user_dt.Date.value_counts().tail())\n"
   ]
  },
  {
   "cell_type": "code",
   "execution_count": 101,
   "metadata": {},
   "outputs": [
    {
     "data": {
      "text/plain": [
       "58"
      ]
     },
     "execution_count": 101,
     "metadata": {},
     "output_type": "execute_result"
    }
   ],
   "source": [
    "round(user_dt.Value.mean())"
   ]
  },
  {
   "cell_type": "code",
   "execution_count": 102,
   "metadata": {},
   "outputs": [],
   "source": [
    "# Convert Date to date dtype from object\n",
    "user_dt['Date']=pd.to_datetime(user_dt['Date'])\n",
    "# Find the range of the dates\n",
    "date_range= str(user_dt['Date'].dt.date.min()) + ' to ' + str(user_dt['Date'].dt.date.max())"
   ]
  },
  {
   "cell_type": "code",
   "execution_count": 103,
   "metadata": {},
   "outputs": [
    {
     "name": "stdout",
     "output_type": "stream",
     "text": [
      "2020-01-06 to 2023-01-05\n"
     ]
    }
   ],
   "source": [
    "print(date_range)"
   ]
  },
  {
   "cell_type": "code",
   "execution_count": 104,
   "metadata": {},
   "outputs": [
    {
     "data": {
      "text/plain": [
       "Date\n",
       "2020    24.071800\n",
       "2021    52.908632\n",
       "2022    69.586292\n",
       "2023    61.187847\n",
       "Name: Value, dtype: float64"
      ]
     },
     "execution_count": 104,
     "metadata": {},
     "output_type": "execute_result"
    }
   ],
   "source": [
    "# Calculate average Value for each month for each location\n",
    "user_dt.groupby(user_dt['Date'].dt.year)['Value'].mean()"
   ]
  },
  {
   "cell_type": "code",
   "execution_count": 105,
   "metadata": {},
   "outputs": [],
   "source": [
    "change_date_format= user_dt['Date'].dt.strftime(\"%d/%m/%Y\")\n",
    "user_dt['Date']=change_date_format\n",
    "\n"
   ]
  },
  {
   "cell_type": "code",
   "execution_count": 106,
   "metadata": {},
   "outputs": [
    {
     "data": {
      "text/plain": [
       "Date        Location\n",
       "02/01/2021  1200          0.6894\n",
       "08/01/2021  1000          0.8764\n",
       "11/01/2021  1300          2.0900\n",
       "05/01/2023  1200          2.2266\n",
       "08/01/2022  1200          2.2942\n",
       "                          ...   \n",
       "06/01/2022  1000        173.5654\n",
       "02/01/2023  1000        183.1062\n",
       "03/01/2022  1000        192.0334\n",
       "09/01/2022  1000        204.1900\n",
       "03/01/2021  1000        251.2868\n",
       "Name: Value, Length: 64, dtype: float64"
      ]
     },
     "execution_count": 106,
     "metadata": {},
     "output_type": "execute_result"
    }
   ],
   "source": [
    "# Calculate average Value for each month for each location\n",
    "user_dt.groupby(['Date','Location'])['Value'].mean().sort_values(ascending=True)\n",
    "\n",
    "#we observe that the average value is minimum for Location 1200\n",
    "\n"
   ]
  },
  {
   "cell_type": "code",
   "execution_count": 107,
   "metadata": {},
   "outputs": [],
   "source": [
    "user_dt['MAvg'] = user_dt['Value'].rolling(window=3).mean()"
   ]
  },
  {
   "cell_type": "code",
   "execution_count": 109,
   "metadata": {},
   "outputs": [
    {
     "name": "stdout",
     "output_type": "stream",
     "text": [
      "54.108\n"
     ]
    }
   ],
   "source": [
    "last_moving_avg=user_dt['Value'].iloc[-1]\n",
    "print(last_moving_avg)"
   ]
  },
  {
   "cell_type": "code",
   "execution_count": 112,
   "metadata": {},
   "outputs": [
    {
     "data": {
      "text/plain": [
       "67"
      ]
     },
     "execution_count": 112,
     "metadata": {},
     "output_type": "execute_result"
    }
   ],
   "source": [
    "user_dt.index[-1]"
   ]
  },
  {
   "cell_type": "code",
   "execution_count": 130,
   "metadata": {},
   "outputs": [],
   "source": [
    "user_dt['Date']=pd.to_datetime(user_dt['Date'])"
   ]
  },
  {
   "cell_type": "code",
   "execution_count": 131,
   "metadata": {},
   "outputs": [],
   "source": [
    "forecast_time=3\n",
    "last_date=user_dt['Date'].iloc[-1]\n",
    "future_dates=pd.date_range(freq='M',start=last_date + pd.DateOffset(months=1),periods=forecast_time)"
   ]
  },
  {
   "cell_type": "code",
   "execution_count": 132,
   "metadata": {},
   "outputs": [],
   "source": [
    "forecast_df = pd.DataFrame({'date': future_dates, 'forecasted_value': [last_moving_avg] * forecast_time})\n",
    "forecast_df.set_index('date', inplace=True)"
   ]
  },
  {
   "cell_type": "code",
   "execution_count": 133,
   "metadata": {},
   "outputs": [
    {
     "name": "stdout",
     "output_type": "stream",
     "text": [
      "            forecasted_value\n",
      "date                        \n",
      "2023-06-30              30.0\n",
      "2023-07-31              30.0\n",
      "2023-08-31              30.0\n"
     ]
    }
   ],
   "source": [
    "print(forecast_df)"
   ]
  },
  {
   "cell_type": "code",
   "execution_count": null,
   "metadata": {},
   "outputs": [],
   "source": []
  }
 ],
 "metadata": {
  "kernelspec": {
   "display_name": "ProjectSummer",
   "language": "python",
   "name": "python3"
  },
  "language_info": {
   "codemirror_mode": {
    "name": "ipython",
    "version": 3
   },
   "file_extension": ".py",
   "mimetype": "text/x-python",
   "name": "python",
   "nbconvert_exporter": "python",
   "pygments_lexer": "ipython3",
   "version": "3.11.3"
  },
  "orig_nbformat": 4
 },
 "nbformat": 4,
 "nbformat_minor": 2
}
